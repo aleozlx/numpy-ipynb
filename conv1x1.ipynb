{
 "cells": [
  {
   "cell_type": "markdown",
   "metadata": {},
   "source": [
    "# 1x1 Convolution\n",
    "\n",
    "** References **\n",
    "\n",
    "1. [One by One Convolution](http://iamaaditya.github.io/2016/03/one-by-one-convolution/)\n",
    "2. [Lin, Min, Qiang Chen, and Shuicheng Yan. \"Network in network.\" arXiv preprint arXiv:1312.4400 (2013).](https://arxiv.org/pdf/1312.4400v3.pdf)\n",
    "3. [VL_NNCONV - CNN convolution](http://www.vlfeat.org/matconvnet/mfiles/vl_nnconv/)\n",
    "4. [VGG Convolutional Neural Networks Practical](https://www.tumblr.com/blog/dimensionmismatch)\n",
    "5. [Convnet: Implementing Convolution Layer with Numpy](http://wiseodd.github.io/techblog/2016/07/16/convnet-conv-layer/)\n",
    "6. [Implement MATLAB's im2col 'sliding' in Python](https://stackoverflow.com/questions/30109068/implement-matlabs-im2col-sliding-in-python)"
   ]
  },
  {
   "cell_type": "markdown",
   "metadata": {
    "deletable": true,
    "editable": true
   },
   "source": [
    "## This 1x1 convolution is actually a matrix multiplication + addition\n",
    "\n",
    "~~~\n",
    "conv8_feat1 = single(reshape(1:36, [1 1 12 3]));\n",
    "squeeze(vl_nnconv(conv8_feat1, ...\n",
    "    single(reshape(1:48, [1 1 12 4])), ...\n",
    "    single(reshape(1:4, [1 4])), ...\n",
    "    'pad', [0 0 0 0], 'stride', 1))\n",
    "~~~\n",
    "\n",
    "~~~\n",
    "ans =\n",
    "\n",
    "  4×3 single matrix\n",
    "\n",
    "         651        1587        2523\n",
    "        1588        4252        6916\n",
    "        2525        6917       11309\n",
    "        3462        9582       15702\n",
    "~~~"
   ]
  },
  {
   "cell_type": "code",
   "execution_count": 1,
   "metadata": {
    "collapsed": true
   },
   "outputs": [],
   "source": [
    "import tensorflow as tf\n",
    "import numpy as np"
   ]
  },
  {
   "cell_type": "markdown",
   "metadata": {},
   "source": [
    "Ignoring singleton dimensions, the same can be achieved using np.dot(), which carries out matrix multiplication on 2-d arrays.\n",
    "\n",
    "n.b. _The transposition is applied because in MATLAB matrices are column-oriented, where as in Numpy they are row-oriented._"
   ]
  },
  {
   "cell_type": "code",
   "execution_count": 6,
   "metadata": {
    "collapsed": false
   },
   "outputs": [
    {
     "data": {
      "text/plain": [
       "array([[  651,  1587,  2523],\n",
       "       [ 1588,  4252,  6916],\n",
       "       [ 2525,  6917, 11309],\n",
       "       [ 3462,  9582, 15702]])"
      ]
     },
     "execution_count": 6,
     "metadata": {},
     "output_type": "execute_result"
    }
   ],
   "source": [
    "A = np.arange(36).reshape((3, 12)).T + 1\n",
    "F = np.arange(48).reshape((4, 12)).T + 1\n",
    "B = np.arange(4) + 1\n",
    "np.dot(F.T, A) + B[..., np.newaxis]"
   ]
  },
  {
   "cell_type": "markdown",
   "metadata": {},
   "source": [
    "Now replicate this operation with the definition of convolution in reference 4."
   ]
  },
  {
   "cell_type": "code",
   "execution_count": null,
   "metadata": {
    "collapsed": true
   },
   "outputs": [],
   "source": [
    "def conv(x, w):\n",
    "    pass"
   ]
  }
 ],
 "metadata": {
  "kernelspec": {
   "display_name": "Python 3",
   "language": "python",
   "name": "python3"
  },
  "language_info": {
   "codemirror_mode": {
    "name": "ipython",
    "version": 3
   },
   "file_extension": ".py",
   "mimetype": "text/x-python",
   "name": "python",
   "nbconvert_exporter": "python",
   "pygments_lexer": "ipython3",
   "version": "3.5.2"
  }
 },
 "nbformat": 4,
 "nbformat_minor": 2
}
