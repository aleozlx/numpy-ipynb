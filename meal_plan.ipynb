{
 "cells": [
  {
   "cell_type": "code",
   "execution_count": 1,
   "metadata": {
    "collapsed": true
   },
   "outputs": [],
   "source": [
    "import itertools, collections\n",
    "import numpy as np"
   ]
  },
  {
   "cell_type": "code",
   "execution_count": 2,
   "metadata": {},
   "outputs": [],
   "source": [
    "class NutritionVector(collections.namedtuple('NutritionVector', 'fat protein carbonhydrate calories')):\n",
    "    \"\"\" Nutrition facts information \"\"\"\n",
    "    def scale(self, n):\n",
    "        \"\"\" Apply scaling factor or matrix transformation \"\"\"\n",
    "        return np.dot(n, self)\n",
    "    \n",
    "    def __str__(self):\n",
    "        return 'fat {:.2f}g\\tprotein {:.2f}g\\tcarbs {:.2f}g\\tcalories {:.2f}kcal'.format(*self)\n",
    "\n",
    "class NutritousObject(object):\n",
    "    \"\"\" Objects that holds a NutritionVector \"\"\"\n",
    "    def __init__(self, name, nutrition, scale):\n",
    "        super(NutritousObject, self).__init__()\n",
    "        self.name = name\n",
    "        self.nutrition = NutritionVector._make(nutrition)\n",
    "        self._scale = scale\n",
    "        \n",
    "    @property\n",
    "    def value(self):\n",
    "        \"\"\" Scaled nutrition facts \"\"\"\n",
    "        return self.nutrition.scale(self._scale)\n",
    "    \n",
    "    def __str__(self):\n",
    "        return '{}: {}'.format(self.name, self.nutrition) if self.name else str(self.nutrition)\n",
    "\n",
    "class NutritousArray(list):\n",
    "    @staticmethod\n",
    "    def of(ctor, inits):\n",
    "        \"\"\" Generic NutritousArray factory for NutritousObject \"\"\"\n",
    "        return NutritousArray(itertools.starmap(ctor, inits))\n",
    "        \n",
    "    def sum(self):\n",
    "        \"\"\" Take summation of nutrition facts for all NutritousObject in the array \"\"\"\n",
    "        return np.sum(np.vstack([o.value for o in self]), axis = 0)\n",
    "    \n",
    "    def __getitem__(self, indices):\n",
    "        \"\"\" Fancy indexing using cached hash-join operator \"\"\"\n",
    "        if not hasattr(self, 'nutritous_index'):\n",
    "            self.nutritous_index = {o.name:o for o in self}\n",
    "        return NutritousArray(map(self.nutritous_index.get, indices))"
   ]
  },
  {
   "cell_type": "code",
   "execution_count": 3,
   "metadata": {},
   "outputs": [
    {
     "name": "stdout",
     "output_type": "stream",
     "text": [
      "chicken thighs / breast: fat 10.00g\tprotein 19.00g\tcarbs 0.00g\tcalories 160.00kcal\n",
      "pasta: fat 1.00g\tprotein 7.00g\tcarbs 42.00g\tcalories 200.00kcal\n",
      "eggs: fat 5.00g\tprotein 6.00g\tcarbs 0.60g\tcalories 78.00kcal\n",
      "tomato: fat 0.20g\tprotein 1.10g\tcarbs 4.80g\tcalories 22.00kcal\n",
      "broccoli: fat 0.50g\tprotein 4.20g\tcarbs 10.00g\tcalories 50.00kcal\n",
      "cheese: fat 9.00g\tprotein 7.00g\tcarbs 0.40g\tcalories 113.00kcal\n",
      "raspberry: fat 0.80g\tprotein 1.50g\tcarbs 15.00g\tcalories 65.00kcal\n",
      "banana: fat 0.40g\tprotein 1.30g\tcarbs 27.00g\tcalories 105.00kcal\n",
      "shrimp: fat 0.30g\tprotein 24.00g\tcarbs 0.20g\tcalories 99.00kcal\n",
      "tilapia: fat 2.30g\tprotein 23.00g\tcarbs 0.00g\tcalories 112.00kcal\n",
      "rice: fat 0.00g\tprotein 3.00g\tcarbs 33.00g\tcalories 150.00kcal\n"
     ]
    }
   ],
   "source": [
    "class Food(NutritousObject):\n",
    "    def __init__(self, name, nutrition, scale):\n",
    "        super(Food, self).__init__(name, nutrition, scale)\n",
    "    \n",
    "all_food = NutritousArray.of(Food, [\n",
    "    (\"chicken thighs / breast\", (10, 19, 0, 160), 4.049928571),\n",
    "    (\"pasta\", (1, 7, 42, 200), 2.026785714),\n",
    "    (\"eggs\", (5, 6, 0.6, 78), 2),\n",
    "    (\"tomato\", (0.2, 1.1, 4.8, 22), 1),\n",
    "    (\"broccoli\", (0.5, 4.2, 10, 50), 1),\n",
    "    (\"cheese\", (9, 7, 0.4, 113), 1),\n",
    "    (\"raspberry\", (0.8, 1.5, 15, 65), 0.2),\n",
    "    (\"banana\", (0.4, 1.3, 27, 105), 1),\n",
    "    (\"shrimp\", (0.3, 24, 0.2, 99), 0.7),\n",
    "    (\"tilapia\", (2.3, 23, 0, 112), 4),\n",
    "    (\"rice\", (0, 3, 33, 150), 4),\n",
    "])\n",
    "\n",
    "for food in all_food:\n",
    "    print(food)"
   ]
  },
  {
   "cell_type": "code",
   "execution_count": 4,
   "metadata": {},
   "outputs": [
    {
     "name": "stdout",
     "output_type": "stream",
     "text": [
      "Lunch 1: fat 50.21g\tprotein 116.95g\tcarbs 142.54g\tcalories 1480.29kcal\n",
      "Dinner 1: fat 21.83g\tprotein 120.59g\tcarbs 118.12g\tcalories 1136.36kcal\n",
      "Dinner 2: fat 43.43g\tprotein 96.64g\tcarbs 122.12g\tcalories 1208.35kcal\n"
     ]
    }
   ],
   "source": [
    "class Meal(NutritousObject):\n",
    "    def __init__(self, name, all_food, transform = 1.0):\n",
    "        self.all_food = all_food\n",
    "        super(Meal, self).__init__(name, self.all_food.sum(), transform)\n",
    "        \n",
    "all_meals = NutritousArray.of(Meal, [\n",
    "    (\"Lunch 1\", all_food[\n",
    "        [\"chicken thighs / breast\",\n",
    "        \"rice\",\n",
    "        \"shrimp\",\n",
    "        \"broccoli\",\n",
    "        \"cheese\",]]\n",
    "    ),\n",
    "    (\"Dinner 1\", all_food[\n",
    "        [\"tilapia\",\n",
    "        \"pasta\",\n",
    "        \"eggs\",\n",
    "        \"tomato\",\n",
    "        \"banana\",]]\n",
    "    ),\n",
    "    (\"Dinner 2\", all_food[\n",
    "        [\"chicken thighs / breast\",\n",
    "        \"pasta\",\n",
    "        \"broccoli\",\n",
    "        \"banana\",]]\n",
    "    ),\n",
    "])\n",
    "\n",
    "for meal in all_meals:\n",
    "    print(meal)"
   ]
  },
  {
   "cell_type": "code",
   "execution_count": 5,
   "metadata": {},
   "outputs": [
    {
     "name": "stdout",
     "output_type": "stream",
     "text": [
      "fat 72.04g\tprotein 237.54g\tcarbs 260.66g\tcalories 2616.65kcal\n",
      "fat 93.64g\tprotein 213.58g\tcarbs 264.66g\tcalories 2688.63kcal\n"
     ]
    }
   ],
   "source": [
    "class Plan(NutritousObject):\n",
    "    def __init__(self, meals):\n",
    "        self.meals = meals\n",
    "        super(Plan, self).__init__('', meals.sum(), 1.0)\n",
    "\n",
    "plans = NutritousArray.of(Plan, [\n",
    "    (all_meals[\"Lunch 1\", \"Dinner 1\"], ),\n",
    "    (all_meals[\"Lunch 1\", \"Dinner 2\"], ),\n",
    "])\n",
    "\n",
    "for plan in plans:\n",
    "    print(plan)"
   ]
  },
  {
   "cell_type": "code",
   "execution_count": 6,
   "metadata": {},
   "outputs": [
    {
     "name": "stdout",
     "output_type": "stream",
     "text": [
      "Difference from goal: fat 9.04g\tprotein 65.54g\tcarbs -26.34g\tcalories 211.65kcal\n",
      "Difference from goal: fat 30.64g\tprotein 41.58g\tcarbs -22.34g\tcalories 283.63kcal\n"
     ]
    }
   ],
   "source": [
    "goal = NutritionVector(calories = 2405, protein = 172,  fat = 63, carbonhydrate = 287).scale(1.0)\n",
    "\n",
    "for plan in plans:\n",
    "    print('Difference from goal:', NutritionVector._make(plan.value - goal))"
   ]
  },
  {
   "cell_type": "code",
   "execution_count": null,
   "metadata": {
    "collapsed": true
   },
   "outputs": [],
   "source": []
  }
 ],
 "metadata": {
  "kernelspec": {
   "display_name": "Python 3",
   "language": "python",
   "name": "python3"
  },
  "language_info": {
   "codemirror_mode": {
    "name": "ipython",
    "version": 3
   },
   "file_extension": ".py",
   "mimetype": "text/x-python",
   "name": "python",
   "nbconvert_exporter": "python",
   "pygments_lexer": "ipython3",
   "version": "3.5.2"
  }
 },
 "nbformat": 4,
 "nbformat_minor": 2
}
